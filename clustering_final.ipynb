{
 "cells": [
  {
   "cell_type": "code",
   "execution_count": 22,
   "metadata": {},
   "outputs": [],
   "source": [
    "import pandas as pd\n",
    "import numpy as np\n",
    "from sklearn.cluster import KMeans, SpectralClustering\n",
    "\n",
    "import matplotlib.pyplot as plt\n",
    "%matplotlib inline\n",
    "\n",
    "from sklearn.manifold import TSNE\n",
    "\n",
    "from sklearn.decomposition import PCA, KernelPCA\n",
    "from sklearn.discriminant_analysis import LinearDiscriminantAnalysis as LDA\n",
    "from sklearn.metrics import normalized_mutual_info_score\n",
    "from scipy.spatial.distance import pdist\n",
    "import umap"
   ]
  },
  {
   "cell_type": "code",
   "execution_count": 23,
   "metadata": {},
   "outputs": [],
   "source": [
    "df_gene = pd.read_csv('genedata.csv')"
   ]
  },
  {
   "cell_type": "code",
   "execution_count": 24,
   "metadata": {},
   "outputs": [],
   "source": [
    "X_gene = df_gene.iloc[:,2:].to_numpy()\n",
    "y_gene = df_gene['class'].to_numpy()"
   ]
  },
  {
   "cell_type": "code",
   "execution_count": 25,
   "metadata": {},
   "outputs": [],
   "source": [
    "def cluster_gene_data(X):\n",
    "    reducer = umap.UMAP(n_components=700)\n",
    "    X_umap = reducer.fit_transform(X)\n",
    "    kmeans_5 = KMeans(n_clusters=5)\n",
    "    labels_umap_5 = kmeans_5.fit_predict(X_umap)\n",
    "    return labels_umap_5"
   ]
  },
  {
   "cell_type": "code",
   "execution_count": 26,
   "metadata": {},
   "outputs": [],
   "source": [
    "labels_gene = cluster_gene_data(X_gene)"
   ]
  },
  {
   "cell_type": "code",
   "execution_count": 27,
   "metadata": {},
   "outputs": [
    {
     "output_type": "execute_result",
     "data": {
      "text/plain": [
       "0.980426301732183"
      ]
     },
     "metadata": {},
     "execution_count": 27
    }
   ],
   "source": [
    "normalized_mutual_info_score(y_gene, labels_gene, average_method=\"geometric\")"
   ]
  },
  {
   "cell_type": "code",
   "execution_count": 28,
   "metadata": {},
   "outputs": [],
   "source": [
    "pd.Series(labels_gene).to_csv('gene_labels.txt', index=False, header=None)"
   ]
  },
  {
   "cell_type": "code",
   "execution_count": 29,
   "metadata": {},
   "outputs": [],
   "source": [
    "df_ms = pd.read_csv('msdata.csv')\n",
    "X_ms = df_ms.iloc[:,2:].to_numpy()\n",
    "y_ms = df_ms['class'].to_numpy()"
   ]
  },
  {
   "cell_type": "code",
   "execution_count": 30,
   "metadata": {},
   "outputs": [],
   "source": [
    "def cluster_ms_data(X):\n",
    "    pca = KernelPCA(n_components=140, kernel='cosine')\n",
    "    X_red_pca = pca.fit_transform(X)\n",
    "    spect = SpectralClustering(n_clusters=3, gamma=1, n_init=100, affinity='poly', degree=10)\n",
    "    labels_spect = spect.fit_predict(X_red_pca)\n",
    "    return labels_spect"
   ]
  },
  {
   "cell_type": "code",
   "execution_count": 31,
   "metadata": {},
   "outputs": [],
   "source": [
    "labels_ms = cluster_ms_data(X_ms)"
   ]
  },
  {
   "cell_type": "code",
   "execution_count": 33,
   "metadata": {},
   "outputs": [
    {
     "output_type": "stream",
     "name": "stdout",
     "text": [
      "Highest achieved NMI score: 0.9748507486774602\n"
     ]
    }
   ],
   "source": [
    "print('Highest achieved NMI score:', normalized_mutual_info_score(y_ms, labels_ms))"
   ]
  },
  {
   "cell_type": "code",
   "execution_count": 35,
   "metadata": {},
   "outputs": [],
   "source": [
    "pd.Series(labels_ms).to_csv('ms_labels.txt', index=False, header=None)"
   ]
  },
  {
   "cell_type": "code",
   "execution_count": null,
   "metadata": {},
   "outputs": [],
   "source": []
  }
 ],
 "metadata": {
  "kernelspec": {
   "display_name": "Python 3",
   "language": "python",
   "name": "python3"
  },
  "language_info": {
   "codemirror_mode": {
    "name": "ipython",
    "version": 3
   },
   "file_extension": ".py",
   "mimetype": "text/x-python",
   "name": "python",
   "nbconvert_exporter": "python",
   "pygments_lexer": "ipython3",
   "version": "3.8.5-final"
  }
 },
 "nbformat": 4,
 "nbformat_minor": 4
}