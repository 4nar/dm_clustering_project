{
 "cells": [
  {
   "cell_type": "code",
   "execution_count": 1,
   "metadata": {},
   "outputs": [],
   "source": [
    "import pandas as pd\n",
    "import numpy as np\n",
    "from sklearn.cluster import KMeans, SpectralClustering\n",
    "\n",
    "import matplotlib.pyplot as plt\n",
    "%matplotlib inline\n",
    "\n",
    "from sklearn.manifold import TSNE\n",
    "\n",
    "from sklearn.decomposition import PCA, KernelPCA\n",
    "from sklearn.discriminant_analysis import LinearDiscriminantAnalysis as LDA\n",
    "from sklearn.metrics import normalized_mutual_info_score\n",
    "from scipy.spatial.distance import pdist\n",
    "import umap"
   ]
  },
  {
   "cell_type": "code",
   "execution_count": 2,
   "metadata": {},
   "outputs": [],
   "source": [
    "df = pd.read_csv('genedata.csv')"
   ]
  },
  {
   "cell_type": "code",
   "execution_count": 4,
   "metadata": {},
   "outputs": [
    {
     "data": {
      "text/plain": [
       "(795, 7002)"
      ]
     },
     "execution_count": 4,
     "metadata": {},
     "output_type": "execute_result"
    }
   ],
   "source": [
    "df.shape"
   ]
  },
  {
   "cell_type": "code",
   "execution_count": 5,
   "metadata": {},
   "outputs": [],
   "source": [
    "X = df.iloc[:,2:].to_numpy()\n",
    "y = df['class'].to_numpy()"
   ]
  },
  {
   "cell_type": "code",
   "execution_count": 6,
   "metadata": {},
   "outputs": [],
   "source": [
    "def cluster_gene_data(X):\n",
    "    reducer = umap.UMAP(n_components=700)\n",
    "    X_umap = reducer.fit_transform(X)\n",
    "    kmeans_5 = KMeans(n_clusters=5)\n",
    "    labels_umap_5 = kmeans_5.fit_predict(X_umap)\n",
    "    return labels_umap_5"
   ]
  },
  {
   "cell_type": "code",
   "execution_count": 7,
   "metadata": {},
   "outputs": [],
   "source": [
    "labels = cluster_gene_data(X)"
   ]
  },
  {
   "cell_type": "code",
   "execution_count": 8,
   "metadata": {},
   "outputs": [
    {
     "data": {
      "text/plain": [
       "0.980426301732183"
      ]
     },
     "execution_count": 8,
     "metadata": {},
     "output_type": "execute_result"
    }
   ],
   "source": [
    "normalized_mutual_info_score(y, labels, average_method=\"geometric\")"
   ]
  },
  {
   "cell_type": "code",
   "execution_count": 10,
   "metadata": {},
   "outputs": [],
   "source": [
    "pd.Series(labels).to_csv('gene_labels.txt', index=False, header=None)"
   ]
  },
  {
   "cell_type": "code",
   "execution_count": 11,
   "metadata": {},
   "outputs": [],
   "source": [
    "def nmi(y, labels):\n",
    "    nmi_ = normalized_mutual_info_score(y, labels, average_method='geometric')\n",
    "    return nmi_\n",
    "\n",
    "def distance_pair(arr, oth_arr, type='euclidean', p=2):\n",
    "    k = oth_arr.shape[0]\n",
    "    n = arr.shape[0]\n",
    "    diff_matrix = np.zeros((k, n))\n",
    "    if type=='euclidean':\n",
    "        for i in range(k):\n",
    "            diff = (arr - oth_arr[i])\n",
    "            diff_prod = diff.dot(diff.T)\n",
    "            diff_matrix[i] = np.sqrt(diff_prod[np.diag_indices(n)])\n",
    "    if type=='manhattan':\n",
    "        for i in range(k):\n",
    "            diff = abs(arr - oth_arr[i])\n",
    "            diff_matrix[i] = np.sum(diff, axis=1)\n",
    "    if type=='lp':\n",
    "        for i in range(k):\n",
    "            diff = (arr - oth_arr[i])\n",
    "            diff = diff**p\n",
    "            diff_prod = diff.sum()\n",
    "            diff_prod = diff.dot(diff.T)\n",
    "            diff_matrix[i] = np.sqrt(diff_prod[np.diag_indices(n)])\n",
    "            \n",
    "    return diff_matrix.T\n",
    "\n",
    "def kmeans(X, k, random_state=123):\n",
    "    np.random.seed(random_state)\n",
    "    n = X.shape[0]\n",
    "    centroids = X[np.random.randint(0, n, k), :]\n",
    "    num_iter = 300\n",
    "    labels = np.argmin(distance_pair(X, centroids), axis=1)\n",
    "    for iter in range(num_iter):\n",
    "        for i in range(k):\n",
    "            centroids[i] = X[np.where(labels==i)[0],:].mean(axis=0)\n",
    "        new_labels = np.argmin(distance_pair(X, centroids), axis=1)\n",
    "        if np.array_equal(labels, new_labels):\n",
    "            return labels\n",
    "        labels = new_labels\n",
    "    return labels\n",
    "\n",
    "def plot_data_2d(X_2d, y, xlabel, ylabel, title):\n",
    "    fig = plt.figure()\n",
    "    ax = fig.add_subplot(1,1,1)\n",
    "    ax.scatter(X_2d[:, 0], X_2d[:, 1], c=y)\n",
    "    ax.set_xlabel(xlabel)\n",
    "    ax.set_ylabel(ylabel)\n",
    "    ax.set_title(title)\n",
    "\n",
    "def plot_data_3d(X_3d, y, xlabel, ylabel, zlabel, title):\n",
    "    fig = plt.figure()\n",
    "    ax = fig.add_subplot(1,1,1, projection='3d')\n",
    "    ax.scatter(X_3d[:, 0], X_3d[:, 1], X_3d[:, 2], c=y)\n",
    "    ax.set_xlabel(xlabel)\n",
    "    ax.set_ylabel(ylabel)\n",
    "    ax.set_ylabel(zlabel)\n",
    "    ax.set_title(title)\n",
    "\n",
    "def draw_class_cluster_subplots(X_2d, classes, clusters, xlabel, ylabel, title_1, title_2):\n",
    "    fig, (ax1, ax2) = plt.subplots(1,2, figsize=(10,5))\n",
    "    ax1.scatter(X_2d[:, 0], X_2d[:, 1], c=classes)\n",
    "    ax1.set_xlabel(xlabel)\n",
    "    ax1.set_ylabel(ylabel)\n",
    "    ax1.set_title(title_1)\n",
    "    ax2.scatter(X_2d[:, 0], X_2d[:, 1], c=clusters)\n",
    "    ax2.set_xlabel(xlabel)\n",
    "    ax2.set_ylabel(ylabel)\n",
    "    ax2.set_title(title_2)\n",
    "\n",
    "df = pd.read_csv('msdata.csv')\n",
    "X = df.iloc[:,2:].to_numpy()\n",
    "y = df['class'].to_numpy()\n"
   ]
  },
  {
   "cell_type": "code",
   "execution_count": 12,
   "metadata": {},
   "outputs": [
    {
     "name": "stdout",
     "output_type": "stream",
     "text": [
      "Highest achieved NMI score: 0.9748507760700308\n"
     ]
    }
   ],
   "source": [
    "# The following code performs all necessary steps to produce an NMI score of 0.97\n",
    "pca = KernelPCA(n_components=140, kernel='cosine')\n",
    "X_red_pca = pca.fit_transform(X)\n",
    "spect = SpectralClustering(n_clusters=3, gamma=1, n_init=100, affinity='poly', degree=10)\n",
    "labels_spect = spect.fit_predict(X_red_pca)\n",
    "print('Highest achieved NMI score:', nmi(y, labels_spect))"
   ]
  },
  {
   "cell_type": "code",
   "execution_count": 14,
   "metadata": {},
   "outputs": [],
   "source": [
    "pd.Series(labels_spect).to_csv('ms_labels.txt', index=False, header=None)"
   ]
  },
  {
   "cell_type": "code",
   "execution_count": null,
   "metadata": {},
   "outputs": [],
   "source": []
  }
 ],
 "metadata": {
  "kernelspec": {
   "display_name": "Python 3",
   "language": "python",
   "name": "python3"
  },
  "language_info": {
   "codemirror_mode": {
    "name": "ipython",
    "version": 3
   },
   "file_extension": ".py",
   "mimetype": "text/x-python",
   "name": "python",
   "nbconvert_exporter": "python",
   "pygments_lexer": "ipython3",
   "version": "3.8.3"
  }
 },
 "nbformat": 4,
 "nbformat_minor": 4
}
