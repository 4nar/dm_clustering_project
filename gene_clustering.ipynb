{
 "cells": [
  {
   "cell_type": "code",
   "execution_count": 1,
   "metadata": {},
   "outputs": [],
   "source": [
    "import pandas as pd"
   ]
  },
  {
   "cell_type": "code",
   "execution_count": 2,
   "metadata": {},
   "outputs": [],
   "source": [
    "df = pd.read_csv('genedata.csv')"
   ]
  },
  {
   "cell_type": "code",
   "execution_count": 3,
   "metadata": {},
   "outputs": [
    {
     "data": {
      "text/html": [
       "<div>\n",
       "<style scoped>\n",
       "    .dataframe tbody tr th:only-of-type {\n",
       "        vertical-align: middle;\n",
       "    }\n",
       "\n",
       "    .dataframe tbody tr th {\n",
       "        vertical-align: top;\n",
       "    }\n",
       "\n",
       "    .dataframe thead th {\n",
       "        text-align: right;\n",
       "    }\n",
       "</style>\n",
       "<table border=\"1\" class=\"dataframe\">\n",
       "  <thead>\n",
       "    <tr style=\"text-align: right;\">\n",
       "      <th></th>\n",
       "      <th>id</th>\n",
       "      <th>class</th>\n",
       "      <th>f1</th>\n",
       "      <th>f2</th>\n",
       "      <th>f3</th>\n",
       "      <th>f4</th>\n",
       "      <th>f5</th>\n",
       "      <th>f6</th>\n",
       "      <th>f7</th>\n",
       "      <th>f8</th>\n",
       "      <th>...</th>\n",
       "      <th>f6991</th>\n",
       "      <th>f6992</th>\n",
       "      <th>f6993</th>\n",
       "      <th>f6994</th>\n",
       "      <th>f6995</th>\n",
       "      <th>f6996</th>\n",
       "      <th>f6997</th>\n",
       "      <th>f6998</th>\n",
       "      <th>f6999</th>\n",
       "      <th>f7000</th>\n",
       "    </tr>\n",
       "  </thead>\n",
       "  <tbody>\n",
       "    <tr>\n",
       "      <th>0</th>\n",
       "      <td>1</td>\n",
       "      <td>5</td>\n",
       "      <td>9.9236</td>\n",
       "      <td>9.1754</td>\n",
       "      <td>5.8666</td>\n",
       "      <td>9.6324</td>\n",
       "      <td>7.0972</td>\n",
       "      <td>9.3128</td>\n",
       "      <td>10.3676</td>\n",
       "      <td>9.0852</td>\n",
       "      <td>...</td>\n",
       "      <td>10.0879</td>\n",
       "      <td>11.8423</td>\n",
       "      <td>12.7435</td>\n",
       "      <td>9.0635</td>\n",
       "      <td>8.7787</td>\n",
       "      <td>7.9303</td>\n",
       "      <td>6.7138</td>\n",
       "      <td>8.6016</td>\n",
       "      <td>10.5377</td>\n",
       "      <td>1.8220</td>\n",
       "    </tr>\n",
       "    <tr>\n",
       "      <th>1</th>\n",
       "      <td>2</td>\n",
       "      <td>4</td>\n",
       "      <td>9.4091</td>\n",
       "      <td>7.4249</td>\n",
       "      <td>3.1379</td>\n",
       "      <td>10.5484</td>\n",
       "      <td>8.0130</td>\n",
       "      <td>9.5026</td>\n",
       "      <td>11.2698</td>\n",
       "      <td>7.8990</td>\n",
       "      <td>...</td>\n",
       "      <td>9.3784</td>\n",
       "      <td>9.4569</td>\n",
       "      <td>12.0819</td>\n",
       "      <td>10.1756</td>\n",
       "      <td>10.1528</td>\n",
       "      <td>5.4348</td>\n",
       "      <td>10.5845</td>\n",
       "      <td>7.6234</td>\n",
       "      <td>10.4654</td>\n",
       "      <td>5.1378</td>\n",
       "    </tr>\n",
       "    <tr>\n",
       "      <th>2</th>\n",
       "      <td>3</td>\n",
       "      <td>5</td>\n",
       "      <td>10.4529</td>\n",
       "      <td>9.2178</td>\n",
       "      <td>4.8765</td>\n",
       "      <td>8.0490</td>\n",
       "      <td>7.7685</td>\n",
       "      <td>9.2959</td>\n",
       "      <td>10.5123</td>\n",
       "      <td>6.5296</td>\n",
       "      <td>...</td>\n",
       "      <td>9.5950</td>\n",
       "      <td>10.7179</td>\n",
       "      <td>13.1295</td>\n",
       "      <td>10.4900</td>\n",
       "      <td>10.0939</td>\n",
       "      <td>6.0810</td>\n",
       "      <td>9.6830</td>\n",
       "      <td>8.6481</td>\n",
       "      <td>9.5714</td>\n",
       "      <td>6.3127</td>\n",
       "    </tr>\n",
       "    <tr>\n",
       "      <th>3</th>\n",
       "      <td>4</td>\n",
       "      <td>5</td>\n",
       "      <td>10.3503</td>\n",
       "      <td>8.9356</td>\n",
       "      <td>5.6650</td>\n",
       "      <td>11.0445</td>\n",
       "      <td>4.4665</td>\n",
       "      <td>8.4218</td>\n",
       "      <td>10.2401</td>\n",
       "      <td>7.9354</td>\n",
       "      <td>...</td>\n",
       "      <td>9.8524</td>\n",
       "      <td>10.5999</td>\n",
       "      <td>12.6674</td>\n",
       "      <td>9.5581</td>\n",
       "      <td>9.6405</td>\n",
       "      <td>7.2867</td>\n",
       "      <td>9.5588</td>\n",
       "      <td>9.3684</td>\n",
       "      <td>10.3977</td>\n",
       "      <td>6.8095</td>\n",
       "    </tr>\n",
       "    <tr>\n",
       "      <th>4</th>\n",
       "      <td>5</td>\n",
       "      <td>1</td>\n",
       "      <td>10.1269</td>\n",
       "      <td>8.2219</td>\n",
       "      <td>4.6109</td>\n",
       "      <td>10.7391</td>\n",
       "      <td>9.1829</td>\n",
       "      <td>8.4748</td>\n",
       "      <td>10.4041</td>\n",
       "      <td>9.7897</td>\n",
       "      <td>...</td>\n",
       "      <td>8.9340</td>\n",
       "      <td>10.2960</td>\n",
       "      <td>12.1049</td>\n",
       "      <td>10.3787</td>\n",
       "      <td>9.1529</td>\n",
       "      <td>6.5969</td>\n",
       "      <td>9.5992</td>\n",
       "      <td>9.4945</td>\n",
       "      <td>10.1985</td>\n",
       "      <td>5.4191</td>\n",
       "    </tr>\n",
       "  </tbody>\n",
       "</table>\n",
       "<p>5 rows × 7002 columns</p>\n",
       "</div>"
      ],
      "text/plain": [
       "   id  class       f1      f2      f3       f4      f5      f6       f7  \\\n",
       "0   1      5   9.9236  9.1754  5.8666   9.6324  7.0972  9.3128  10.3676   \n",
       "1   2      4   9.4091  7.4249  3.1379  10.5484  8.0130  9.5026  11.2698   \n",
       "2   3      5  10.4529  9.2178  4.8765   8.0490  7.7685  9.2959  10.5123   \n",
       "3   4      5  10.3503  8.9356  5.6650  11.0445  4.4665  8.4218  10.2401   \n",
       "4   5      1  10.1269  8.2219  4.6109  10.7391  9.1829  8.4748  10.4041   \n",
       "\n",
       "       f8  ...    f6991    f6992    f6993    f6994    f6995   f6996    f6997  \\\n",
       "0  9.0852  ...  10.0879  11.8423  12.7435   9.0635   8.7787  7.9303   6.7138   \n",
       "1  7.8990  ...   9.3784   9.4569  12.0819  10.1756  10.1528  5.4348  10.5845   \n",
       "2  6.5296  ...   9.5950  10.7179  13.1295  10.4900  10.0939  6.0810   9.6830   \n",
       "3  7.9354  ...   9.8524  10.5999  12.6674   9.5581   9.6405  7.2867   9.5588   \n",
       "4  9.7897  ...   8.9340  10.2960  12.1049  10.3787   9.1529  6.5969   9.5992   \n",
       "\n",
       "    f6998    f6999   f7000  \n",
       "0  8.6016  10.5377  1.8220  \n",
       "1  7.6234  10.4654  5.1378  \n",
       "2  8.6481   9.5714  6.3127  \n",
       "3  9.3684  10.3977  6.8095  \n",
       "4  9.4945  10.1985  5.4191  \n",
       "\n",
       "[5 rows x 7002 columns]"
      ]
     },
     "execution_count": 3,
     "metadata": {},
     "output_type": "execute_result"
    }
   ],
   "source": [
    "df.head()"
   ]
  },
  {
   "cell_type": "code",
   "execution_count": 7,
   "metadata": {},
   "outputs": [],
   "source": [
    "X = df.iloc[:,2:].to_numpy()"
   ]
  },
  {
   "cell_type": "code",
   "execution_count": 8,
   "metadata": {},
   "outputs": [
    {
     "data": {
      "text/plain": [
       "(795, 7000)"
      ]
     },
     "execution_count": 8,
     "metadata": {},
     "output_type": "execute_result"
    }
   ],
   "source": [
    "X.shape"
   ]
  },
  {
   "cell_type": "code",
   "execution_count": 9,
   "metadata": {},
   "outputs": [
    {
     "data": {
      "text/plain": [
       "PCA(n_components=2)"
      ]
     },
     "execution_count": 9,
     "metadata": {},
     "output_type": "execute_result"
    }
   ],
   "source": [
    "from sklearn.decomposition import PCA\n",
    "pca = PCA(n_components=2)\n",
    "pca.fit(X)"
   ]
  },
  {
   "cell_type": "code",
   "execution_count": 10,
   "metadata": {},
   "outputs": [
    {
     "name": "stdout",
     "output_type": "stream",
     "text": [
      "[0.1563306 0.1081536]\n"
     ]
    }
   ],
   "source": [
    "print(pca.explained_variance_ratio_)"
   ]
  },
  {
   "cell_type": "code",
   "execution_count": 11,
   "metadata": {},
   "outputs": [],
   "source": [
    "transformed_x = pca.transform(X)"
   ]
  },
  {
   "cell_type": "code",
   "execution_count": 13,
   "metadata": {},
   "outputs": [],
   "source": [
    "import matplotlib.pyplot as plt\n",
    "%matplotlib inline"
   ]
  },
  {
   "cell_type": "code",
   "execution_count": 14,
   "metadata": {},
   "outputs": [],
   "source": [
    "y = df['class'].to_numpy()"
   ]
  },
  {
   "cell_type": "code",
   "execution_count": 15,
   "metadata": {},
   "outputs": [
    {
     "data": {
      "text/plain": [
       "(795, 2)"
      ]
     },
     "execution_count": 15,
     "metadata": {},
     "output_type": "execute_result"
    }
   ],
   "source": [
    "transformed_x.shape"
   ]
  },
  {
   "cell_type": "code",
   "execution_count": 16,
   "metadata": {},
   "outputs": [
    {
     "data": {
      "text/plain": [
       "Text(0.5, 1.0, 'Figure 1: Gene data by class with PCA')"
      ]
     },
     "execution_count": 16,
     "metadata": {},
     "output_type": "execute_result"
    },
    {
     "data": {
      "image/png": "[encoded data removed]",
      "text/plain": [
       "<Figure size 432x288 with 1 Axes>"
      ]
     },
     "metadata": {
      "needs_background": "light"
     },
     "output_type": "display_data"
    }
   ],
   "source": [
    "fig = plt.figure()\n",
    "ax = fig.add_subplot(1,1,1)\n",
    "ax.scatter(transformed_x[:, 0], transformed_x[:, 1], c=y)\n",
    "ax.set_xlabel('pca_1')\n",
    "ax.set_ylabel('pca_2')\n",
    "ax.set_title(f'Figure 1: Gene data by class with PCA')"
   ]
  },
  {
   "cell_type": "code",
   "execution_count": 17,
   "metadata": {},
   "outputs": [],
   "source": [
    "from sklearn.manifold import TSNE"
   ]
  },
  {
   "cell_type": "code",
   "execution_count": 18,
   "metadata": {},
   "outputs": [],
   "source": [
    "X_embedded = TSNE(n_components=2).fit_transform(X)"
   ]
  },
  {
   "cell_type": "code",
   "execution_count": 19,
   "metadata": {},
   "outputs": [
    {
     "data": {
      "text/plain": [
       "(795, 2)"
      ]
     },
     "execution_count": 19,
     "metadata": {},
     "output_type": "execute_result"
    }
   ],
   "source": [
    "X_embedded.shape"
   ]
  },
  {
   "cell_type": "code",
   "execution_count": 20,
   "metadata": {},
   "outputs": [
    {
     "data": {
      "text/plain": [
       "Text(0.5, 1.0, 'Figure 1: Gene data by class with TSNE')"
      ]
     },
     "execution_count": 20,
     "metadata": {},
     "output_type": "execute_result"
    },
    {
     "data": {
      "image/png": "[encoded data removed]",
      "text/plain": [
       "<Figure size 432x288 with 1 Axes>"
      ]
     },
     "metadata": {
      "needs_background": "light"
     },
     "output_type": "display_data"
    }
   ],
   "source": [
    "fig = plt.figure()\n",
    "ax = fig.add_subplot(1,1,1)\n",
    "ax.scatter(X_embedded[:, 0], X_embedded[:, 1], c=y)\n",
    "ax.set_xlabel('tsne_1')\n",
    "ax.set_ylabel('tsne_2')\n",
    "ax.set_title(f'Figure 1: Gene data by class with TSNE')"
   ]
  },
  {
   "cell_type": "code",
   "execution_count": null,
   "metadata": {},
   "outputs": [],
   "source": []
  },
  {
   "cell_type": "code",
   "execution_count": null,
   "metadata": {},
   "outputs": [],
   "source": []
  },
  {
   "cell_type": "markdown",
   "metadata": {},
   "source": [
    "1. EDA\n",
    "2. DIMENSIONALITY REDUCTION\n",
    "3. VISUALIZATION\n"
   ]
  },
  {
   "cell_type": "code",
   "execution_count": null,
   "metadata": {},
   "outputs": [],
   "source": []
  },
  {
   "cell_type": "code",
   "execution_count": null,
   "metadata": {},
   "outputs": [],
   "source": []
  },
  {
   "cell_type": "code",
   "execution_count": null,
   "metadata": {},
   "outputs": [],
   "source": []
  },
  {
   "cell_type": "code",
   "execution_count": null,
   "metadata": {},
   "outputs": [],
   "source": []
  },
  {
   "cell_type": "code",
   "execution_count": null,
   "metadata": {},
   "outputs": [],
   "source": []
  },
  {
   "cell_type": "code",
   "execution_count": null,
   "metadata": {},
   "outputs": [],
   "source": [
    "def distance(arr, oth_arr, type='euclidean'):\n",
    "    k = oth_arr.shape[0]\n",
    "    n = arr.shape[0]\n",
    "    diff_matrix = np.zeros((k, n))\n",
    "    if type=='euclidean':\n",
    "        for i in range(k):\n",
    "            diff = (arr - oth_arr[i])\n",
    "            diff_prod = diff.dot(diff.T)\n",
    "            diff_matrix[i] = np.sqrt(diff_prod[np.diag_indices(n)])\n",
    "    if type=='manhattan':\n",
    "        for i in range(k):\n",
    "            diff = abs(arr - oth_arr[i])\n",
    "            diff_matrix[i] = np.sum(diff, axis=1)\n",
    "            \n",
    "    return diff_matrix.T\n",
    "\n",
    "\n",
    "def kmeans(X, k):\n",
    "    n = X.shape[0]\n",
    "    centroids = X[np.random.randint(0, n, k), :]\n",
    "    num_iter = 300\n",
    "    labels = np.argmin(distance(X, centroids), axis=1)\n",
    "    for iter in range(num_iter):\n",
    "        for i in range(k):\n",
    "            centroids[i] = X[np.where(labels==i)[0],:].mean(axis=0)\n",
    "        new_labels = np.argmin(distance(X, centroids), axis=1)\n",
    "        if np.array_equal(labels, new_labels):\n",
    "            return labels\n",
    "        labels = new_labels\n",
    "    return labels"
   ]
  },
  {
   "cell_type": "code",
   "execution_count": null,
   "metadata": {},
   "outputs": [],
   "source": [
    "def distance(arr, type='euclidean'):\n",
    "    n = arr.shape[0]\n",
    "    diff_matrix = np.zeros((n,n))\n",
    "    if type=='euclidean':\n",
    "        for i in range(n):\n",
    "            diff = (arr - arr[i])\n",
    "            diff_prod = diff.dot(diff.T)\n",
    "            diff_matrix[i] = np.sqrt(diff_prod[np.diag_indices(n)])\n",
    "    return diff_matrix\n",
    "def spectral_clustering_laplace_norm(X, sigma=0.3, k=3):\n",
    "    pairwise_differences = distance(X)\n",
    "    # Constructing similarity graph \n",
    "    similarity_graph = np.exp(-(pairwise_differences)/(2*sigma**2))\n",
    "    # Computing normalized Laplacian\n",
    "    graph_laplacian_s = sparse.csgraph.laplacian(csgraph=similarity_graph, normed=True)\n",
    "    L_norm_cov = np.cov(graph_laplacian_s)\n",
    "    eig_val, eig_vectors = eigh(L_norm_cov)\n",
    "    X = eig_vectors[:, :k]\n",
    "    X_normalized =  preprocessing.normalize(X, norm='l2')\n",
    "    model = KMeans(n_clusters=k)\n",
    "    labels_norm = model.fit_predict(X_normalized)\n",
    "    \n",
    "    fig = plt.figure()\n",
    "    ax = fig.add_subplot(1,1,1)\n",
    "    ax.scatter(df['A'], df['B'], c=labels_norm)\n",
    "    ax.set_xlabel('x')\n",
    "    ax.set_ylabel('y')\n",
    "    ax.set_title(f'Figure 1: Relation between Variables, labeled using spectral clustering with sigma={sigma}')\n",
    "    return labels_norm"
   ]
  }
 ],
 "metadata": {
  "kernelspec": {
   "display_name": "Python 3",
   "language": "python",
   "name": "python3"
  },
  "language_info": {
   "codemirror_mode": {
    "name": "ipython",
    "version": 3
   },
   "file_extension": ".py",
   "mimetype": "text/x-python",
   "name": "python",
   "nbconvert_exporter": "python",
   "pygments_lexer": "ipython3",
   "version": "3.8.3"
  }
 },
 "nbformat": 4,
 "nbformat_minor": 4
}
